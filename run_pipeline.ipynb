{
 "cells": [
  {
   "cell_type": "code",
   "execution_count": 3,
   "id": "c48f813a",
   "metadata": {},
   "outputs": [],
   "source": [
    "from src import pipeline\n",
    "from src import composite_analysis\n",
    "from src import classification\n",
    "import os\n",
    "import glob\n",
    "import rasterio\n",
    "import pandas as pd\n",
    "import numpy as np\n",
    "from importlib import reload\n",
    "import matplotlib.pyplot as plt\n",
    "import geopandas as gpd\n",
    "import contextily as ctx\n",
    "from shapely.geometry import box\n",
    "from project_config import get_config\n",
    "\n",
    "root = '.'\n",
    "\n",
    "data_folder = pipeline.make_new_dir(root, 'data')\n",
    "raw_folder = pipeline.make_new_dir(root, 'data/raw')\n",
    "clipped_folder = pipeline.make_new_dir(root, 'data/clipped')\n",
    "stacked_folder = pipeline.make_new_dir(root, 'data/stacked')\n",
    "derived_folder = pipeline.make_new_dir(root, 'data/derived')\n",
    "classified_folder = pipeline.make_new_dir(root, 'output/classified')\n",
    "rois_folder = pipeline.make_new_dir(root, 'output/rois')\n",
    "rois_initial_analysis_dir = pipeline.make_new_dir(rois_folder, 'initial_analysis')\n",
    "class_train_rois_folder = pipeline.make_new_dir(rois_folder, 'classification_training_rois')\n",
    "tests_folder = pipeline.make_new_dir(root, 'tests')\n",
    "envi_folder = pipeline.make_new_dir(data_folder, 'envi')\n",
    "\n",
    "cfg = get_config()\n",
    "band_map = cfg.band_map.to_dict()\n",
    "bands_to_keep = cfg.bands.to_dict()\n",
    "composites = cfg.composites.get_all()"
   ]
  },
  {
   "cell_type": "markdown",
   "id": "012ca348",
   "metadata": {},
   "source": [
    "## Obtain the study area bounding box\n",
    "To ensure perfect consistency with ENVI, ENVI was used to clip a raw image and the bounding box and CRS was obtained programmatically from the result"
   ]
  },
  {
   "cell_type": "code",
   "execution_count": 6,
   "id": "104f5f94",
   "metadata": {},
   "outputs": [
    {
     "name": "stdout",
     "output_type": "stream",
     "text": [
      "Files stacked: 0\n",
      "Images Classified: 35\n"
     ]
    },
    {
     "name": "stderr",
     "output_type": "stream",
     "text": [
      "c:\\Users\\anson\\Documents\\University\\2\\GEOM90005 Remote Sensing\\Project\\wedabaywatch\\src\\pipeline.py:249: RuntimeWarning: invalid value encountered in divide\n",
      "  (nir - red) / (nir + red)\n",
      "c:\\Users\\anson\\Documents\\University\\2\\GEOM90005 Remote Sensing\\Project\\wedabaywatch\\src\\pipeline.py:285: RuntimeWarning: invalid value encountered in divide\n",
      "  composite = (green - swir) / (green + swir)\n",
      "c:\\Users\\anson\\Documents\\University\\2\\GEOM90005 Remote Sensing\\Project\\wedabaywatch\\src\\pipeline.py:275: RuntimeWarning: invalid value encountered in divide\n",
      "  (swir - nir) / (swir + nir)\n",
      "c:\\Users\\anson\\Documents\\University\\2\\GEOM90005 Remote Sensing\\Project\\wedabaywatch\\src\\pipeline.py:258: RuntimeWarning: divide by zero encountered in divide\n",
      "  composite = 2.5 * (nir - red) / (nir + 6*red - 7.5*blue + 1)\n"
     ]
    },
    {
     "name": "stdout",
     "output_type": "stream",
     "text": [
      "Composites generated: 420\n"
     ]
    }
   ],
   "source": [
    "envi_clipped = envi_folder + r'/new_clipped_RGB.img'\n",
    "\n",
    "reload(pipeline)\n",
    "reload(classification)\n",
    "\n",
    "replace_existing = True\n",
    "extract_raw_files = False\n",
    "stack_files = False\n",
    "classify_files = True\n",
    "\n",
    "if extract_raw_files:\n",
    "    ### List the dates for which raw data exists\n",
    "    raw_data_dates = [pipeline.extract_scene_date(x) for x in os.listdir(raw_folder)]\n",
    "\n",
    "    print(f'Total number of raw files: {len(raw_data_dates)}')\n",
    "    years = sorted(set(d[:4] for d in raw_data_dates))\n",
    "\n",
    "    grouped = {y: [d for d in raw_data_dates if d.startswith(y)] for y in years}\n",
    "\n",
    "    max_len = max(len(v) for v in grouped.values())\n",
    "    for y in years:\n",
    "        grouped[y] += [np.nan] * (max_len - len(grouped[y]))\n",
    "\n",
    "    df = pd.DataFrame(grouped)\n",
    "    display(df)\n",
    "\n",
    "    with rasterio.open(envi_clipped) as src:\n",
    "        study_area_bbox, study_area_crs = src.bounds, src.crs\n",
    "    bbox_geom = box(*study_area_bbox)\n",
    "    gdf = gpd.GeoDataFrame({'geometry': [bbox_geom]}, crs=study_area_crs)\n",
    "    files_clipped = pipeline.clip_raw_scenes_to_study_area(raw_folder, clipped_folder, study_area_bbox, bands_to_keep, replace_existing)\n",
    "    print(f'Number of raw data files clipped: {files_clipped}')\n",
    "\n",
    "\n",
    "## Take the clipped bands and stack them\n",
    "files_stacked = pipeline.stack_all_bands_in_dir(clipped_folder, stacked_folder, bands_to_keep, stack_files)\n",
    "print(f'Files stacked: {files_stacked}')\n",
    "\n",
    "## Create classified tif files from stacked images\n",
    "images_classified = classification.train_and_classify(roi_sources = classification.roi_sources,                             \n",
    "                       roi_folder_path = class_train_rois_folder,\n",
    "                       img_folder_path = stacked_folder,\n",
    "                       classified_folder_path = classified_folder,\n",
    "                       cloud_masking = True,\n",
    "                       plot = False,\n",
    "                       replace_existing=classify_files)\n",
    "print(f'Images Classified: {images_classified}')\n",
    "\n",
    "## Generate composite images from stacks\n",
    "composites_created = pipeline.build_composites_from_stacks(stacked_folder, derived_folder, composites, band_map, replace_existing=replace_existing)\n",
    "print(f'Composites generated: {composites_created}')\n"
   ]
  },
  {
   "cell_type": "code",
   "execution_count": null,
   "id": "14e302af",
   "metadata": {},
   "outputs": [
    {
     "data": {
      "text/plain": [
       "'d'"
      ]
     },
     "execution_count": 9,
     "metadata": {},
     "output_type": "execute_result"
    }
   ],
   "source": []
  }
 ],
 "metadata": {
  "kernelspec": {
   "display_name": "base",
   "language": "python",
   "name": "python3"
  },
  "language_info": {
   "codemirror_mode": {
    "name": "ipython",
    "version": 3
   },
   "file_extension": ".py",
   "mimetype": "text/x-python",
   "name": "python",
   "nbconvert_exporter": "python",
   "pygments_lexer": "ipython3",
   "version": "3.12.4"
  }
 },
 "nbformat": 4,
 "nbformat_minor": 5
}
