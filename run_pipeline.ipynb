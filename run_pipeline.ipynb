{
 "cells": [
  {
   "cell_type": "code",
   "execution_count": 21,
   "id": "c48f813a",
   "metadata": {},
   "outputs": [],
   "source": [
    "from src import pipeline\n",
    "from src import composite_analysis\n",
    "from src import classification\n",
    "import os\n",
    "import glob\n",
    "import rasterio\n",
    "import pandas as pd\n",
    "import numpy as np\n",
    "from importlib import reload\n",
    "import matplotlib.pyplot as plt\n",
    "import geopandas as gpd\n",
    "import contextily as ctx\n",
    "from shapely.geometry import box\n",
    "\n",
    "root = '.'\n",
    "\n",
    "data_folder = pipeline.make_new_dir(root, 'data')\n",
    "raw_folder = pipeline.make_new_dir(root, 'data/raw')\n",
    "clipped_folder = pipeline.make_new_dir(root, 'data/clipped')\n",
    "stacked_folder = pipeline.make_new_dir(root, 'data/stacked')\n",
    "derived_folder = pipeline.make_new_dir(root, 'data/derived')\n",
    "class_train_rois_folder = pipeline.make_new_dir(root, 'data/training_rois')\n",
    "classified_folder = pipeline.make_new_dir(root, 'output/classified')\n",
    "rois_folder = pipeline.make_new_dir(root, 'output/rois')\n",
    "rois_initial_analysis_dir = pipeline.make_new_dir(rois_folder, 'initial_analysis')\n",
    "tests_folder = pipeline.make_new_dir(root, 'tests')\n",
    "envi_folder = pipeline.make_new_dir(data_folder, 'envi')"
   ]
  },
  {
   "cell_type": "markdown",
   "id": "012ca348",
   "metadata": {},
   "source": [
    "## Obtain the study area bounding box\n",
    "To ensure perfect consistency with ENVI, ENVI was used to clip a raw image and the bounding box and CRS was obtained programmatically from the result"
   ]
  },
  {
   "cell_type": "code",
   "execution_count": 22,
   "id": "ef468d94",
   "metadata": {},
   "outputs": [],
   "source": [
    "bands_to_keep = {\n",
    "    'LE07': ['B1','B2','B3','B4','B5','B6','B7'],\n",
    "    'LC08': ['B1','B2','B3','B4','B5','B6','B7','B10', 'QA_PIXEL'],\n",
    "    'LC09': ['B1','B2','B3','B4','B5','B6','B7','B10', 'QA_PIXEL']\n",
    "}\n",
    "\n",
    "composites = ['RGB', 'NDVI', 'MNDWI', 'NDBI', 'EVI', 'SAVI', 'FERRIC_IRON', 'BAI', 'SI', 'NDGI']\n",
    "# , 'NDMI', 'CMI' # <-- these are the same as NDBI, really"
   ]
  },
  {
   "cell_type": "code",
   "execution_count": 9,
   "id": "104f5f94",
   "metadata": {},
   "outputs": [
    {
     "name": "stdout",
     "output_type": "stream",
     "text": [
      "Files stacked: 0\n",
      "Images Classified: 0\n"
     ]
    },
    {
     "ename": "TypeError",
     "evalue": "where() got an unexpected keyword argument 'composite'",
     "output_type": "error",
     "traceback": [
      "\u001b[1;31m---------------------------------------------------------------------------\u001b[0m",
      "\u001b[1;31mTypeError\u001b[0m                                 Traceback (most recent call last)",
      "Cell \u001b[1;32mIn[26], line 48\u001b[0m\n\u001b[0;32m     45\u001b[0m \u001b[38;5;28mprint\u001b[39m(\u001b[38;5;124mf\u001b[39m\u001b[38;5;124m'\u001b[39m\u001b[38;5;124mImages Classified: \u001b[39m\u001b[38;5;132;01m{\u001b[39;00mimages_classified\u001b[38;5;132;01m}\u001b[39;00m\u001b[38;5;124m'\u001b[39m)\n\u001b[0;32m     47\u001b[0m \u001b[38;5;66;03m## Generate composite images from stacks\u001b[39;00m\n\u001b[1;32m---> 48\u001b[0m composites_created \u001b[38;5;241m=\u001b[39m pipeline\u001b[38;5;241m.\u001b[39mbuild_composites_from_stacks(stacked_folder, derived_folder, composites, pipeline\u001b[38;5;241m.\u001b[39mband_map, replace_existing\u001b[38;5;241m=\u001b[39mreplace_existing)\n\u001b[0;32m     49\u001b[0m \u001b[38;5;28mprint\u001b[39m(\u001b[38;5;124mf\u001b[39m\u001b[38;5;124m'\u001b[39m\u001b[38;5;124mComposites generated: \u001b[39m\u001b[38;5;132;01m{\u001b[39;00mcomposites_created\u001b[38;5;132;01m}\u001b[39;00m\u001b[38;5;124m'\u001b[39m)\n",
      "File \u001b[1;32mc:\\Users\\oneil\\Documents\\Uni\\RS\\Project\\wedabaywatch\\src\\pipeline.py:379\u001b[0m, in \u001b[0;36mbuild_composites_from_stacks\u001b[1;34m(stacked_folder, output_folder, composites, band_map, replace_existing)\u001b[0m\n\u001b[0;32m    376\u001b[0m         out_dir \u001b[38;5;241m=\u001b[39m make_new_dir(output_folder, scene_dir)\n\u001b[0;32m    377\u001b[0m         out_path \u001b[38;5;241m=\u001b[39m os\u001b[38;5;241m.\u001b[39mpath\u001b[38;5;241m.\u001b[39mjoin(out_dir, \u001b[38;5;124mf\u001b[39m\u001b[38;5;124m'\u001b[39m\u001b[38;5;132;01m{\u001b[39;00mcomposite\u001b[38;5;132;01m}\u001b[39;00m\u001b[38;5;124m'\u001b[39m)\n\u001b[1;32m--> 379\u001b[0m         counter \u001b[38;5;241m+\u001b[39m\u001b[38;5;241m=\u001b[39m process_if_needed(out_path, replace_existing, compute_composite_from_stack_and_save, stack_path, out_path, composite, band_map, sensor)\n\u001b[0;32m    380\u001b[0m \u001b[38;5;28;01mreturn\u001b[39;00m counter\n",
      "File \u001b[1;32mc:\\Users\\oneil\\Documents\\Uni\\RS\\Project\\wedabaywatch\\src\\pipeline.py:391\u001b[0m, in \u001b[0;36mprocess_if_needed\u001b[1;34m(_out_path, _replace, process_func, *args, **kwargs)\u001b[0m\n\u001b[0;32m    388\u001b[0m \u001b[38;5;28;01mif\u001b[39;00m os\u001b[38;5;241m.\u001b[39mpath\u001b[38;5;241m.\u001b[39mexists(_out_path) \u001b[38;5;129;01mand\u001b[39;00m \u001b[38;5;129;01mnot\u001b[39;00m _replace:\n\u001b[0;32m    389\u001b[0m     \u001b[38;5;66;03m# print(f'Skipping processing of {_out_path}')\u001b[39;00m\n\u001b[0;32m    390\u001b[0m     \u001b[38;5;28;01mreturn\u001b[39;00m \u001b[38;5;28;01mFalse\u001b[39;00m\n\u001b[1;32m--> 391\u001b[0m process_func(\u001b[38;5;241m*\u001b[39margs, \u001b[38;5;241m*\u001b[39m\u001b[38;5;241m*\u001b[39mkwargs)\n\u001b[0;32m    392\u001b[0m \u001b[38;5;28;01mreturn\u001b[39;00m \u001b[38;5;28;01mTrue\u001b[39;00m\n",
      "File \u001b[1;32mc:\\Users\\oneil\\Documents\\Uni\\RS\\Project\\wedabaywatch\\src\\pipeline.py:283\u001b[0m, in \u001b[0;36mcompute_composite_from_stack_and_save\u001b[1;34m(stack_path, out_path, composite_name, band_map, sensor)\u001b[0m\n\u001b[0;32m    234\u001b[0m nir \u001b[38;5;241m=\u001b[39m bands[band_to_index[band_map[sensor][\u001b[38;5;124m'\u001b[39m\u001b[38;5;124mNIR\u001b[39m\u001b[38;5;124m'\u001b[39m]] \u001b[38;5;241m-\u001b[39m \u001b[38;5;241m1\u001b[39m]\n\u001b[0;32m    235\u001b[0m swir \u001b[38;5;241m=\u001b[39m bands[band_to_index[band_map[sensor][\u001b[38;5;124m'\u001b[39m\u001b[38;5;124mSWIR1\u001b[39m\u001b[38;5;124m'\u001b[39m]] \u001b[38;5;241m-\u001b[39m \u001b[38;5;241m1\u001b[39m]\n\u001b[0;32m    237\u001b[0m \u001b[38;5;28;01mmatch\u001b[39;00m composite_name:\n\u001b[0;32m    238\u001b[0m     \u001b[38;5;28;01mcase\u001b[39;00m \u001b[38;5;124m'\u001b[39m\u001b[38;5;124mRGB\u001b[39m\u001b[38;5;124m'\u001b[39m:\n\u001b[0;32m    239\u001b[0m         \u001b[38;5;66;03m# r = bands[band_to_index[band_map[sensor]['R']] - 1]\u001b[39;00m\n\u001b[0;32m    240\u001b[0m         \u001b[38;5;66;03m# g = bands[band_to_index[band_map[sensor]['G']] - 1]\u001b[39;00m\n\u001b[0;32m    241\u001b[0m         \u001b[38;5;66;03m# b = bands[band_to_index[band_map[sensor]['B']] - 1]\u001b[39;00m\n\u001b[0;32m    242\u001b[0m         composite \u001b[38;5;241m=\u001b[39m np\u001b[38;5;241m.\u001b[39mstack([red, green, blue])\n\u001b[0;32m    243\u001b[0m \n\u001b[0;32m    244\u001b[0m     \u001b[38;5;28;01mcase\u001b[39;00m \u001b[38;5;124m'\u001b[39m\u001b[38;5;124mNDVI\u001b[39m\u001b[38;5;124m'\u001b[39m:\n\u001b[0;32m    245\u001b[0m         \u001b[38;5;66;03m# nir = bands[band_to_index[band_map[sensor]['NIR']] - 1]\u001b[39;00m\n\u001b[0;32m    246\u001b[0m         \u001b[38;5;66;03m# red = bands[band_to_index[band_map[sensor]['R']] - 1]\u001b[39;00m\n\u001b[0;32m    247\u001b[0m         composite \u001b[38;5;241m=\u001b[39m np\u001b[38;5;241m.\u001b[39mwhere(\n\u001b[0;32m    248\u001b[0m             (nir \u001b[38;5;241m+\u001b[39m red) \u001b[38;5;241m==\u001b[39m \u001b[38;5;241m0\u001b[39m, np\u001b[38;5;241m.\u001b[39mnan,\n\u001b[0;32m    249\u001b[0m             (nir \u001b[38;5;241m-\u001b[39m red) \u001b[38;5;241m/\u001b[39m (nir \u001b[38;5;241m+\u001b[39m red)\n\u001b[0;32m    250\u001b[0m         )\n\u001b[0;32m    251\u001b[0m         composite \u001b[38;5;241m=\u001b[39m composite[np\u001b[38;5;241m.\u001b[39mnewaxis, :, :]\n\u001b[0;32m    252\u001b[0m         profile\u001b[38;5;241m.\u001b[39mupdate(dtype\u001b[38;5;241m=\u001b[39m\u001b[38;5;124m'\u001b[39m\u001b[38;5;124mfloat32\u001b[39m\u001b[38;5;124m'\u001b[39m)\n\u001b[0;32m    253\u001b[0m \n\u001b[0;32m    254\u001b[0m     \u001b[38;5;28;01mcase\u001b[39;00m \u001b[38;5;124m'\u001b[39m\u001b[38;5;124mEVI\u001b[39m\u001b[38;5;124m'\u001b[39m:\n\u001b[0;32m    255\u001b[0m         \u001b[38;5;66;03m# nir = bands[band_to_index[band_map[sensor]['NIR']] - 1]\u001b[39;00m\n\u001b[0;32m    256\u001b[0m         \u001b[38;5;66;03m# r = bands[band_to_index[band_map[sensor]['R']] - 1]\u001b[39;00m\n\u001b[0;32m    257\u001b[0m         \u001b[38;5;66;03m# b = bands[band_to_index[band_map[sensor]['B']] - 1]\u001b[39;00m\n\u001b[0;32m    258\u001b[0m         composite \u001b[38;5;241m=\u001b[39m \u001b[38;5;241m2.5\u001b[39m \u001b[38;5;241m*\u001b[39m (nir \u001b[38;5;241m-\u001b[39m red) \u001b[38;5;241m/\u001b[39m (nir \u001b[38;5;241m+\u001b[39m \u001b[38;5;241m6\u001b[39m\u001b[38;5;241m*\u001b[39mred \u001b[38;5;241m-\u001b[39m \u001b[38;5;241m7.5\u001b[39m\u001b[38;5;241m*\u001b[39mblue \u001b[38;5;241m+\u001b[39m \u001b[38;5;241m1\u001b[39m)\n\u001b[0;32m    259\u001b[0m         composite \u001b[38;5;241m=\u001b[39m composite[np\u001b[38;5;241m.\u001b[39mnewaxis, :, :]\n\u001b[0;32m    260\u001b[0m         profile\u001b[38;5;241m.\u001b[39mupdate(dtype\u001b[38;5;241m=\u001b[39m\u001b[38;5;124m'\u001b[39m\u001b[38;5;124mfloat32\u001b[39m\u001b[38;5;124m'\u001b[39m)\n\u001b[0;32m    261\u001b[0m \n\u001b[0;32m    262\u001b[0m     \u001b[38;5;28;01mcase\u001b[39;00m \u001b[38;5;124m'\u001b[39m\u001b[38;5;124mSAVI\u001b[39m\u001b[38;5;124m'\u001b[39m:\n\u001b[0;32m    263\u001b[0m         \u001b[38;5;66;03m# nir = bands[band_to_index[band_map[sensor]['NIR']] - 1]\u001b[39;00m\n\u001b[0;32m    264\u001b[0m         \u001b[38;5;66;03m# r = bands[band_to_index[band_map[sensor]['R']] - 1]\u001b[39;00m\n\u001b[0;32m    265\u001b[0m         L \u001b[38;5;241m=\u001b[39m \u001b[38;5;241m0.5\u001b[39m\n\u001b[0;32m    266\u001b[0m         composite \u001b[38;5;241m=\u001b[39m ((nir \u001b[38;5;241m-\u001b[39m red) \u001b[38;5;241m*\u001b[39m (\u001b[38;5;241m1\u001b[39m \u001b[38;5;241m+\u001b[39m L)) \u001b[38;5;241m/\u001b[39m (nir \u001b[38;5;241m+\u001b[39m red \u001b[38;5;241m+\u001b[39m L)\n\u001b[0;32m    267\u001b[0m         composite \u001b[38;5;241m=\u001b[39m composite[np\u001b[38;5;241m.\u001b[39mnewaxis, :, :]\n\u001b[0;32m    268\u001b[0m         profile\u001b[38;5;241m.\u001b[39mupdate(dtype\u001b[38;5;241m=\u001b[39m\u001b[38;5;124m'\u001b[39m\u001b[38;5;124mfloat32\u001b[39m\u001b[38;5;124m'\u001b[39m)\n\u001b[0;32m    269\u001b[0m \n\u001b[0;32m    270\u001b[0m     \u001b[38;5;28;01mcase\u001b[39;00m \u001b[38;5;124m'\u001b[39m\u001b[38;5;124mNDBI\u001b[39m\u001b[38;5;124m'\u001b[39m:\n\u001b[0;32m    271\u001b[0m         \u001b[38;5;66;03m# swir = bands[band_to_index[band_map[sensor]['SWIR1']] - 1]\u001b[39;00m\n\u001b[0;32m    272\u001b[0m         \u001b[38;5;66;03m# nir = bands[band_to_index[band_map[sensor]['NIR']] - 1]\u001b[39;00m\n\u001b[0;32m    273\u001b[0m         composite \u001b[38;5;241m=\u001b[39m np\u001b[38;5;241m.\u001b[39mwhere(\n\u001b[0;32m    274\u001b[0m             (swir \u001b[38;5;241m+\u001b[39m nir) \u001b[38;5;241m==\u001b[39m \u001b[38;5;241m0\u001b[39m, np\u001b[38;5;241m.\u001b[39mnan,\n\u001b[0;32m    275\u001b[0m             (swir \u001b[38;5;241m-\u001b[39m nir) \u001b[38;5;241m/\u001b[39m (swir \u001b[38;5;241m+\u001b[39m nir)\n\u001b[0;32m    276\u001b[0m         )\n\u001b[0;32m    277\u001b[0m         composite \u001b[38;5;241m=\u001b[39m composite[np\u001b[38;5;241m.\u001b[39mnewaxis, :, :]\n\u001b[0;32m    278\u001b[0m         profile\u001b[38;5;241m.\u001b[39mupdate(dtype\u001b[38;5;241m=\u001b[39m\u001b[38;5;124m'\u001b[39m\u001b[38;5;124mfloat32\u001b[39m\u001b[38;5;124m'\u001b[39m)\n\u001b[0;32m    279\u001b[0m \n\u001b[0;32m    280\u001b[0m     \u001b[38;5;28;01mcase\u001b[39;00m \u001b[38;5;124m'\u001b[39m\u001b[38;5;124mMNDWI\u001b[39m\u001b[38;5;124m'\u001b[39m:\n\u001b[0;32m    281\u001b[0m         \u001b[38;5;66;03m# green = bands[band_to_index[band_map[sensor]['G']] - 1]\u001b[39;00m\n\u001b[0;32m    282\u001b[0m         \u001b[38;5;66;03m# swir = bands[band_to_index[band_map[sensor]['SWIR1']] - 1]\u001b[39;00m\n\u001b[1;32m--> 283\u001b[0m         composite \u001b[38;5;241m=\u001b[39m np\u001b[38;5;241m.\u001b[39mwhere(\n\u001b[0;32m    284\u001b[0m             (green \u001b[38;5;241m+\u001b[39m swir) \u001b[38;5;241m==\u001b[39m \u001b[38;5;241m0\u001b[39m, np\u001b[38;5;241m.\u001b[39mnan,\n\u001b[0;32m    285\u001b[0m             composite \u001b[38;5;241m=\u001b[39m (green \u001b[38;5;241m-\u001b[39m swir) \u001b[38;5;241m/\u001b[39m (green \u001b[38;5;241m+\u001b[39m swir)\n\u001b[0;32m    286\u001b[0m         )\n\u001b[0;32m    287\u001b[0m         composite \u001b[38;5;241m=\u001b[39m composite[np\u001b[38;5;241m.\u001b[39mnewaxis, :, :]\n\u001b[0;32m    288\u001b[0m         profile\u001b[38;5;241m.\u001b[39mupdate(dtype\u001b[38;5;241m=\u001b[39m\u001b[38;5;124m'\u001b[39m\u001b[38;5;124mfloat32\u001b[39m\u001b[38;5;124m'\u001b[39m)\n\u001b[0;32m    289\u001b[0m \n\u001b[0;32m    290\u001b[0m     \u001b[38;5;28;01mcase\u001b[39;00m \u001b[38;5;124m'\u001b[39m\u001b[38;5;124mFERRIC_IRON\u001b[39m\u001b[38;5;124m'\u001b[39m:\n\u001b[0;32m    291\u001b[0m         \u001b[38;5;66;03m# red = bands[band_to_index[band_map[sensor]['R']] - 1]\u001b[39;00m\n\u001b[0;32m    292\u001b[0m         \u001b[38;5;66;03m# green = bands[band_to_index[band_map[sensor]['G']] - 1]\u001b[39;00m\n\u001b[0;32m    293\u001b[0m         composite \u001b[38;5;241m=\u001b[39m red\u001b[38;5;241m/\u001b[39m(green\u001b[38;5;241m+\u001b[39m\u001b[38;5;241m1e-7\u001b[39m)\n\u001b[0;32m    294\u001b[0m         composite \u001b[38;5;241m=\u001b[39m composite[np\u001b[38;5;241m.\u001b[39mnewaxis, :, :]\n\u001b[0;32m    295\u001b[0m         profile\u001b[38;5;241m.\u001b[39mupdate(dtype\u001b[38;5;241m=\u001b[39m\u001b[38;5;124m'\u001b[39m\u001b[38;5;124mfloat32\u001b[39m\u001b[38;5;124m'\u001b[39m)\n\u001b[0;32m    296\u001b[0m     \n\u001b[0;32m    297\u001b[0m     \u001b[38;5;28;01mcase\u001b[39;00m \u001b[38;5;124m'\u001b[39m\u001b[38;5;124mBAI\u001b[39m\u001b[38;5;124m'\u001b[39m:  \u001b[38;5;66;03m# Burned Area Index\u001b[39;00m\n\u001b[0;32m    298\u001b[0m         \u001b[38;5;66;03m# nir = bands[band_to_index[band_map[sensor]['NIR']] - 1]\u001b[39;00m\n\u001b[0;32m    299\u001b[0m         \u001b[38;5;66;03m# red = bands[band_to_index[band_map[sensor]['R']] - 1]\u001b[39;00m\n\u001b[0;32m    300\u001b[0m         \u001b[38;5;66;03m# blue = bands[band_to_index[band_map[sensor]['B']] - 1]\u001b[39;00m\n\u001b[0;32m    301\u001b[0m         composite \u001b[38;5;241m=\u001b[39m \u001b[38;5;241m1\u001b[39m \u001b[38;5;241m/\u001b[39m ((\u001b[38;5;241m0.1\u001b[39m \u001b[38;5;241m-\u001b[39m blue)\u001b[38;5;241m*\u001b[39m\u001b[38;5;241m*\u001b[39m\u001b[38;5;241m2\u001b[39m \u001b[38;5;241m+\u001b[39m (\u001b[38;5;241m0.06\u001b[39m \u001b[38;5;241m-\u001b[39m red)\u001b[38;5;241m*\u001b[39m\u001b[38;5;241m*\u001b[39m\u001b[38;5;241m2\u001b[39m \u001b[38;5;241m+\u001b[39m (nir \u001b[38;5;241m-\u001b[39m \u001b[38;5;241m0.3\u001b[39m)\u001b[38;5;241m*\u001b[39m\u001b[38;5;241m*\u001b[39m\u001b[38;5;241m2\u001b[39m)\n\u001b[0;32m    302\u001b[0m         composite \u001b[38;5;241m=\u001b[39m composite[np\u001b[38;5;241m.\u001b[39mnewaxis, :, :]\n\u001b[0;32m    303\u001b[0m         profile\u001b[38;5;241m.\u001b[39mupdate(dtype\u001b[38;5;241m=\u001b[39m\u001b[38;5;124m'\u001b[39m\u001b[38;5;124mfloat32\u001b[39m\u001b[38;5;124m'\u001b[39m)\n\u001b[0;32m    304\u001b[0m \n\u001b[0;32m    305\u001b[0m     \u001b[38;5;28;01mcase\u001b[39;00m \u001b[38;5;124m'\u001b[39m\u001b[38;5;124mSI\u001b[39m\u001b[38;5;124m'\u001b[39m:  \u001b[38;5;66;03m# Shadow Index\u001b[39;00m\n\u001b[0;32m    306\u001b[0m         \u001b[38;5;66;03m# nir = bands[band_to_index[band_map[sensor]['NIR']] - 1]\u001b[39;00m\n\u001b[0;32m    307\u001b[0m         \u001b[38;5;66;03m# red = bands[band_to_index[band_map[sensor]['R']] - 1]\u001b[39;00m\n\u001b[0;32m    308\u001b[0m         \u001b[38;5;66;03m# green = bands[band_to_index[band_map[sensor]['G']] - 1]\u001b[39;00m\n\u001b[0;32m    309\u001b[0m         composite \u001b[38;5;241m=\u001b[39m (nir \u001b[38;5;241m-\u001b[39m red) \u001b[38;5;241m/\u001b[39m (nir \u001b[38;5;241m+\u001b[39m red \u001b[38;5;241m+\u001b[39m green \u001b[38;5;241m+\u001b[39m tiny_offset)  \u001b[38;5;66;03m# avoid div by 0\u001b[39;00m\n\u001b[0;32m    310\u001b[0m         composite \u001b[38;5;241m=\u001b[39m composite[np\u001b[38;5;241m.\u001b[39mnewaxis, :, :]\n\u001b[0;32m    311\u001b[0m         profile\u001b[38;5;241m.\u001b[39mupdate(dtype\u001b[38;5;241m=\u001b[39m\u001b[38;5;124m'\u001b[39m\u001b[38;5;124mfloat32\u001b[39m\u001b[38;5;124m'\u001b[39m)\n\u001b[0;32m    312\u001b[0m \n\u001b[0;32m    313\u001b[0m     \u001b[38;5;28;01mcase\u001b[39;00m \u001b[38;5;124m'\u001b[39m\u001b[38;5;124mNDGI\u001b[39m\u001b[38;5;124m'\u001b[39m:  \u001b[38;5;66;03m# Normalized Difference Greenness Index\u001b[39;00m\n\u001b[0;32m    314\u001b[0m         \u001b[38;5;66;03m# green = bands[band_to_index[band_map[sensor]['G']] - 1]\u001b[39;00m\n\u001b[0;32m    315\u001b[0m         \u001b[38;5;66;03m# red = bands[band_to_index[band_map[sensor]['R']] - 1]\u001b[39;00m\n\u001b[0;32m    316\u001b[0m         composite \u001b[38;5;241m=\u001b[39m (green \u001b[38;5;241m-\u001b[39m red) \u001b[38;5;241m/\u001b[39m (green \u001b[38;5;241m+\u001b[39m red \u001b[38;5;241m+\u001b[39m tiny_offset)\n\u001b[0;32m    317\u001b[0m         composite \u001b[38;5;241m=\u001b[39m composite[np\u001b[38;5;241m.\u001b[39mnewaxis, :, :]\n\u001b[0;32m    318\u001b[0m         profile\u001b[38;5;241m.\u001b[39mupdate(dtype\u001b[38;5;241m=\u001b[39m\u001b[38;5;124m'\u001b[39m\u001b[38;5;124mfloat32\u001b[39m\u001b[38;5;124m'\u001b[39m)\n\u001b[0;32m    319\u001b[0m \n\u001b[0;32m    320\u001b[0m     \u001b[38;5;28;01mcase\u001b[39;00m \u001b[38;5;124m'\u001b[39m\u001b[38;5;124mNDMI\u001b[39m\u001b[38;5;124m'\u001b[39m:  \u001b[38;5;66;03m# Normalized Difference Moisture Index\u001b[39;00m\n\u001b[0;32m    321\u001b[0m         \u001b[38;5;66;03m# nir = bands[band_to_index[band_map[sensor]['NIR']] - 1]\u001b[39;00m\n\u001b[0;32m    322\u001b[0m         \u001b[38;5;66;03m# swir = bands[band_to_index[band_map[sensor]['SWIR1']] - 1]\u001b[39;00m\n\u001b[0;32m    323\u001b[0m         composite \u001b[38;5;241m=\u001b[39m (nir \u001b[38;5;241m-\u001b[39m swir) \u001b[38;5;241m/\u001b[39m (nir \u001b[38;5;241m+\u001b[39m swir \u001b[38;5;241m+\u001b[39m tiny_offset)\n\u001b[0;32m    324\u001b[0m         composite \u001b[38;5;241m=\u001b[39m composite[np\u001b[38;5;241m.\u001b[39mnewaxis, :, :]\n\u001b[0;32m    325\u001b[0m         profile\u001b[38;5;241m.\u001b[39mupdate(dtype\u001b[38;5;241m=\u001b[39m\u001b[38;5;124m'\u001b[39m\u001b[38;5;124mfloat32\u001b[39m\u001b[38;5;124m'\u001b[39m)\n\u001b[0;32m    326\u001b[0m \n\u001b[0;32m    327\u001b[0m     \u001b[38;5;28;01mcase\u001b[39;00m \u001b[38;5;124m'\u001b[39m\u001b[38;5;124mCMI\u001b[39m\u001b[38;5;124m'\u001b[39m:  \u001b[38;5;66;03m# Clay Mineral Index\u001b[39;00m\n\u001b[0;32m    328\u001b[0m         \u001b[38;5;66;03m# swir = bands[band_to_index[band_map[sensor]['SWIR1']] - 1]\u001b[39;00m\n\u001b[0;32m    329\u001b[0m         \u001b[38;5;66;03m# nir = bands[band_to_index[band_map[sensor]['NIR']] - 1]\u001b[39;00m\n\u001b[0;32m    330\u001b[0m         composite \u001b[38;5;241m=\u001b[39m (swir \u001b[38;5;241m-\u001b[39m nir) \u001b[38;5;241m/\u001b[39m (swir \u001b[38;5;241m+\u001b[39m nir \u001b[38;5;241m+\u001b[39m tiny_offset)\n\u001b[0;32m    331\u001b[0m         composite \u001b[38;5;241m=\u001b[39m composite[np\u001b[38;5;241m.\u001b[39mnewaxis, :, :]\n\u001b[0;32m    332\u001b[0m         profile\u001b[38;5;241m.\u001b[39mupdate(dtype\u001b[38;5;241m=\u001b[39m\u001b[38;5;124m'\u001b[39m\u001b[38;5;124mfloat32\u001b[39m\u001b[38;5;124m'\u001b[39m)\n\u001b[0;32m    333\u001b[0m \n\u001b[0;32m    334\u001b[0m     \u001b[38;5;28;01mcase\u001b[39;00m\u001b[38;5;250m \u001b[39m\u001b[38;5;28;01m_\u001b[39;00m:\n\u001b[0;32m    335\u001b[0m         \u001b[38;5;28;01mraise\u001b[39;00m \u001b[38;5;167;01mValueError\u001b[39;00m(\u001b[38;5;124mf\u001b[39m\u001b[38;5;124m\"\u001b[39m\u001b[38;5;124mUnsupported composite/index: \u001b[39m\u001b[38;5;132;01m{\u001b[39;00mcomposite_name\u001b[38;5;132;01m}\u001b[39;00m\u001b[38;5;124m\"\u001b[39m)\n\u001b[0;32m    338\u001b[0m \u001b[38;5;66;03m# Update profile for output\u001b[39;00m\n\u001b[0;32m    339\u001b[0m profile\u001b[38;5;241m.\u001b[39mupdate(\n\u001b[0;32m    340\u001b[0m     driver\u001b[38;5;241m=\u001b[39m\u001b[38;5;124m'\u001b[39m\u001b[38;5;124mENVI\u001b[39m\u001b[38;5;124m'\u001b[39m,\n\u001b[0;32m    341\u001b[0m     count\u001b[38;5;241m=\u001b[39mcomposite\u001b[38;5;241m.\u001b[39mshape[\u001b[38;5;241m0\u001b[39m]\n\u001b[0;32m    342\u001b[0m )\n",
      "\u001b[1;31mTypeError\u001b[0m: where() got an unexpected keyword argument 'composite'"
     ]
    }
   ],
   "source": [
    "reload(pipeline)\n",
    "reload(classification)\n",
    "\n",
    "replace_existing = False\n",
    "extract_raw_files = False\n",
    "\n",
    "if extract_raw_files:\n",
    "    ### List the dates for which raw data exists\n",
    "    raw_data_dates = [pipeline.extract_scene_date(x) for x in os.listdir(raw_folder)]\n",
    "\n",
    "    print(f'Total number of raw files: {len(raw_data_dates)}')\n",
    "    years = sorted(set(d[:4] for d in raw_data_dates))\n",
    "\n",
    "    grouped = {y: [d for d in raw_data_dates if d.startswith(y)] for y in years}\n",
    "\n",
    "    max_len = max(len(v) for v in grouped.values())\n",
    "    for y in years:\n",
    "        grouped[y] += [np.nan] * (max_len - len(grouped[y]))\n",
    "\n",
    "    df = pd.DataFrame(grouped)\n",
    "    display(df)\n",
    "\n",
    "    ## Clip raw satellite images to study area\n",
    "    envi_clipped = envi_folder + r'/clipped'\n",
    "    with rasterio.open(envi_clipped) as src:\n",
    "        study_area_bbox, study_area_crs = src.bounds, src.crs\n",
    "    bbox_geom = box(*study_area_bbox)\n",
    "    gdf = gpd.GeoDataFrame({'geometry': [bbox_geom]}, crs=study_area_crs)\n",
    "    files_clipped = pipeline.clip_raw_scenes_to_study_area(raw_folder, clipped_folder, study_area_bbox, bands_to_keep, replace_existing)\n",
    "    print(f'Number of raw data files clipped: {files_clipped}')\n",
    "\n",
    "\n",
    "## Take the clipped bands and stack them\n",
    "files_stacked = pipeline.stack_all_bands_in_dir(clipped_folder, stacked_folder, bands_to_keep, replace_existing)\n",
    "print(f'Files stacked: {files_stacked}')\n",
    "\n",
    "## Create classified tif files from stacked images\n",
    "images_classified = classification.train_and_classify(roi_sources = classification.roi_sources,                             \n",
    "                       roi_folder_path = class_train_rois_folder,\n",
    "                       img_folder_path = stacked_folder,\n",
    "                       classified_folder_path = classified_folder,\n",
    "                       cloud_masking = True,\n",
    "                       plot = False,\n",
    "                       replace_existing=replace_existing)\n",
    "print(f'Images Classified: {images_classified}')\n",
    "\n",
    "## Generate composite images from stacks\n",
    "composites_created = pipeline.build_composites_from_stacks(stacked_folder, derived_folder, composites, pipeline.band_map, replace_existing=replace_existing)\n",
    "print(f'Composites generated: {composites_created}')\n"
   ]
  },
  {
   "cell_type": "code",
   "execution_count": null,
   "id": "14e302af",
   "metadata": {},
   "outputs": [
    {
     "data": {
      "text/plain": [
       "'d'"
      ]
     },
     "execution_count": 9,
     "metadata": {},
     "output_type": "execute_result"
    }
   ],
   "source": []
  }
 ],
 "metadata": {
  "kernelspec": {
   "display_name": "base",
   "language": "python",
   "name": "python3"
  },
  "language_info": {
   "codemirror_mode": {
    "name": "ipython",
    "version": 3
   },
   "file_extension": ".py",
   "mimetype": "text/x-python",
   "name": "python",
   "nbconvert_exporter": "python",
   "pygments_lexer": "ipython3",
   "version": "3.12.4"
  }
 },
 "nbformat": 4,
 "nbformat_minor": 5
}
